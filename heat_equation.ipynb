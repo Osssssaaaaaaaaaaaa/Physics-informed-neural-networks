{
  "nbformat": 4,
  "nbformat_minor": 0,
  "metadata": {
    "colab": {
      "provenance": []
    },
    "kernelspec": {
      "name": "python3",
      "display_name": "Python 3"
    },
    "language_info": {
      "name": "python"
    }
  },
  "cells": [
    {
      "cell_type": "code",
      "execution_count": null,
      "metadata": {
        "id": "V7Y2ff60vYIX",
        "colab": {
          "base_uri": "https://localhost:8080/"
        },
        "outputId": "50372cd9-7799-45b4-8742-384bb822ceba"
      },
      "outputs": [
        {
          "output_type": "stream",
          "name": "stdout",
          "text": [
            "TensorFlow version: 2.18.0\n"
          ]
        }
      ],
      "source": [
        "import numpy as np\n",
        "import tensorflow as tf\n",
        "import matplotlib.pyplot as plt\n",
        "import scipy.optimize\n",
        "import scipy.io\n",
        "import numpy as np\n",
        "import matplotlib.pyplot as plt\n",
        "import matplotlib.gridspec as gridspec\n",
        "from mpl_toolkits.axes_grid1 import make_axes_locatable\n",
        "from mpl_toolkits.mplot3d import Axes3D\n",
        "import time\n",
        "import seaborn as sns\n",
        "import codecs, json\n",
        "import math\n",
        "# generates same random numbers each time\n",
        "np.random.seed(1234)\n",
        "tf.random.set_seed(1234)\n",
        "import random\n",
        "import datetime\n",
        "import shutil\n",
        "print(\"TensorFlow version: {}\".format(tf.__version__))\n",
        "import random"
      ]
    },
    {
      "cell_type": "code",
      "source": [
        "# Step 1. Create a model (Feedforward Neural Network)\n",
        "# Three-layer fully connected neural network with 100 nodes in each layer\n",
        "n_nodes = 32\n",
        "n_out = 1\n",
        "model = tf.keras.Sequential([\n",
        "    tf.keras.layers.Dense(n_nodes, activation=\"tanh\"),\n",
        "    tf.keras.layers.Dense(n_nodes, activation=\"tanh\"),\n",
        "    tf.keras.layers.Dense(n_nodes, activation=\"tanh\"),\n",
        "    tf.keras.layers.Dense(n_out, activation=None) # linear activation\n",
        "])"
      ],
      "metadata": {
        "id": "HUT3Wv6AvtEF"
      },
      "execution_count": null,
      "outputs": []
    },
    {
      "cell_type": "code",
      "source": [
        "def Heat_eqution(x, L, t, alpha): # difine the heat equation to get the exact solution\n",
        "    usol = []\n",
        "    for j in t:\n",
        "      for i in x:\n",
        "          usol.append(np.sin((np.pi*i)/L)* np.exp(-alpha*(np.pi/L)**2*j))\n",
        "    return usol"
      ],
      "metadata": {
        "id": "_J7mtgayFbMY"
      },
      "execution_count": null,
      "outputs": []
    },
    {
      "cell_type": "code",
      "source": [
        "# Step 1: define required parameters\n",
        "alpha = 0.01\n",
        "L = 1\n",
        "\n",
        "# Step 2: Construct loss function\n",
        "u0 = lambda x: np.sin((np.pi*x)/L) # initial condition\n",
        "\n",
        "def loss(model, X_PDE, X_IC, X_BC):\n",
        "    # X_PDE, X_IC, X_BC are training data for PDE, IC, BC.\n",
        "    #   They are numpy arrays of size N x 2:\n",
        "    #     first column is location x, second column is time t\n",
        "    # The input \"model\" is the neural network\n",
        "    # Calculate loss of PDE: requires u_t (first order derivative), u_xx (second order derivative)\n",
        "    # PDE: u_t - u_xx* alpha\n",
        "    with tf.GradientTape(persistent=True) as g:\n",
        "        g.watch(X_PDE)\n",
        "        u = model(X_PDE)\n",
        "        u_x = g.gradient(u, X_PDE)[:, 0:1]\n",
        "    u_t = g.gradient(u, X_PDE)[:, 1:2]\n",
        "    u_xx = g.gradient(u_x, X_PDE)[:, 0:1]\n",
        "\n",
        "    loss_PDE = tf.reduce_mean((u_t - u_xx* alpha)**2)\n",
        "\n",
        "    # Calculate loss of IC\n",
        "    loss_IC = tf.reduce_mean((model(X_IC) - u0(X_IC[:, 0:1]))**2)\n",
        "\n",
        "    # Calculate loss of BC\n",
        "    u_BC = model(X_BC)\n",
        "    loss_BC = tf.reduce_sum((u_BC)**2)\n",
        "\n",
        "\n",
        "    # Total loss\n",
        "    w1 = 1.\n",
        "    w2 = 1.\n",
        "    loss_total = loss_PDE + w1*loss_IC + w2*loss_BC\n",
        "\n",
        "    return loss_total, loss_PDE, loss_IC, loss_BC"
      ],
      "metadata": {
        "id": "C6KtcBhrvwKN"
      },
      "execution_count": null,
      "outputs": []
    },
    {
      "cell_type": "code",
      "source": [
        "# Generate training data\n",
        "def BC_data(Nt):\n",
        "    t = np.random.rand(Nt, 1) * 1  # t ∈ [0, 1]\n",
        "    x = np.random.choice([0, 1], size=(Nt, 1))\n",
        "    X = np.hstack((x, t))\n",
        "    return tf.constant(X, dtype=tf.float32)\n",
        "\n",
        "\n",
        "def IC_data(Nx):\n",
        "    # x is random in [0, 1], t is 0\n",
        "    x = np.random.rand(Nx, 1)\n",
        "    t = np.zeros((Nx, 1))\n",
        "    X = np.hstack((x, t))\n",
        "    return tf.constant(X, dtype=tf.float32)\n",
        "\n",
        "def PDE_data(Np):\n",
        "    # x is random in [0, 1], t is random in [0, 1]\n",
        "    x = np.random.rand(Np, 1)\n",
        "    t = np.random.rand(Np, 1)\n",
        "    X = np.hstack((x, t))\n",
        "    return tf.constant(X, dtype=tf.float32)"
      ],
      "metadata": {
        "id": "WuI3pdI4vwMm"
      },
      "execution_count": null,
      "outputs": []
    },
    {
      "cell_type": "code",
      "source": [
        "# Step 3.0. Generate training data\n",
        "\n",
        "Nt = 100  # number of training data for BC\n",
        "Nx = 200  # number of training data for IC\n",
        "Np = 4000 # number of training data for PDE\n",
        "\n",
        "X_BC = BC_data(Nt)\n",
        "X_IC = IC_data(Nx)\n",
        "X_PDE = PDE_data(Np)\n",
        "\n",
        "# Create a dataset object for X_PDE\n",
        "X_PDE_dataset = tf.data.Dataset.from_tensor_slices(X_PDE)\n",
        "# Shuffle and batch data\n",
        "X_PDE_dataset = X_PDE_dataset.shuffle(buffer_size=Np).batch(256)"
      ],
      "metadata": {
        "id": "bk_unQnAvwPL"
      },
      "execution_count": null,
      "outputs": []
    },
    {
      "cell_type": "code",
      "source": [
        "# Step 3.1. Define optimizer\n",
        "optimizer = tf.keras.optimizers.Adam(learning_rate=0.001)\n",
        "# Step 3.2. Define training loop\n",
        "epochs = 3000\n",
        "# loop over epochs, each epoch contains all batches, each batch contains batch_size data\n",
        "# read data from X_PDE_dataset\n",
        "for epoch in range(epochs):\n",
        "    for X_PDE_batch in X_PDE_dataset:\n",
        "        with tf.GradientTape() as g:\n",
        "            # calculate loss\n",
        "            loss_total, loss_PDE, loss_IC, loss_BC = loss(model, X_PDE_batch, X_IC, X_BC)\n",
        "        # calculate gradient\n",
        "        grads = g.gradient(loss_total, model.trainable_variables)\n",
        "        # update weights\n",
        "        optimizer.apply_gradients(zip(grads, model.trainable_variables))\n",
        "\n",
        "    if (epoch+1) % 500 == 0:\n",
        "        print('Epoch: %d, Loss: %f, Loss_PDE: %f, Loss_IC: %f, Loss_BC: %f' \\\n",
        "            % (epoch+1, loss_total, loss_PDE, loss_IC, loss_BC))"
      ],
      "metadata": {
        "id": "HgghUdbBvwRn",
        "colab": {
          "base_uri": "https://localhost:8080/"
        },
        "outputId": "775d3262-f9a2-400f-df6a-0875b73ee20d"
      },
      "execution_count": null,
      "outputs": [
        {
          "output_type": "stream",
          "name": "stdout",
          "text": [
            "Epoch: 500, Loss: 0.001172, Loss_PDE: 0.000612, Loss_IC: 0.000353, Loss_BC: 0.000207\n",
            "Epoch: 1000, Loss: 0.000161, Loss_PDE: 0.000075, Loss_IC: 0.000061, Loss_BC: 0.000025\n",
            "Epoch: 1500, Loss: 0.000319, Loss_PDE: 0.000105, Loss_IC: 0.000054, Loss_BC: 0.000160\n",
            "Epoch: 2000, Loss: 0.000127, Loss_PDE: 0.000075, Loss_IC: 0.000044, Loss_BC: 0.000009\n",
            "Epoch: 2500, Loss: 0.000842, Loss_PDE: 0.000087, Loss_IC: 0.000056, Loss_BC: 0.000699\n",
            "Epoch: 3000, Loss: 0.000276, Loss_PDE: 0.000079, Loss_IC: 0.000041, Loss_BC: 0.000156\n"
          ]
        }
      ]
    },
    {
      "cell_type": "code",
      "source": [
        "def plot_2D(xlim=None, ylim=None, xticks=None, yticks=None,\n",
        "            xlabel = 'x', ylabel = 'y',\n",
        "            figsize=(7.3, 5.9), label_size=18, tick_size=16, spine_width=1.5):\n",
        "\n",
        "    fig, ax = plt.subplots(figsize=figsize)\n",
        "\n",
        "    #-----Format Axis ---------------------------\n",
        "    # labels and size\n",
        "    ax.set_xlabel(xlabel, fontsize=label_size)\n",
        "    ax.set_ylabel(ylabel, fontsize=label_size)\n",
        "\n",
        "    # limits, ticks and size\n",
        "    if xlim != None:\n",
        "        ax.set_xlim(*xlim)\n",
        "    if ylim != None:\n",
        "        ax.set_ylim(*ylim)\n",
        "\n",
        "    if xticks != None:\n",
        "        ax.set_xticks(xticks)\n",
        "        ax.set_yticks(yticks)\n",
        "\n",
        "    for tick in ax.get_xticklabels():\n",
        "        #tick.set_fontname('Times New Roman')\n",
        "        tick.set_fontsize(tick_size)\n",
        "    for tick in ax.get_yticklabels():\n",
        "        #tick.set_fontname('Times New Roman')\n",
        "        tick.set_fontsize(tick_size)\n",
        "\n",
        "    #---------- Spines -------\n",
        "    ax.spines[\"top\"].set_linewidth(spine_width)\n",
        "    ax.spines[\"left\"].set_linewidth(spine_width)\n",
        "    ax.spines[\"right\"].set_linewidth(spine_width)\n",
        "    ax.spines[\"bottom\"].set_linewidth(spine_width)\n",
        "\n",
        "    return fig, ax"
      ],
      "metadata": {
        "id": "l4-i1E7hvwT7"
      },
      "execution_count": null,
      "outputs": []
    },
    {
      "cell_type": "code",
      "source": [
        "# Find the exact solution\n",
        "x = np.linspace(0, 1, 100)\n",
        "t = np.linspace(0, 1, 100)\n",
        "dt = 0.00001\n",
        "dx = x[1] - x[0]\n",
        "\n",
        "# Generate usol as a 2D numpy array (time points, spatial points)\n",
        "usol = np.zeros((len(t), len(x)))\n",
        "for i in range(len(t)):\n",
        "    for j in range(len(x)):\n",
        "        usol[i, j] = np.sin((np.pi*x[j])/L)* np.exp(-alpha*(np.pi/L)**2*t[i])"
      ],
      "metadata": {
        "id": "nDYwFWBkaVif"
      },
      "execution_count": null,
      "outputs": []
    },
    {
      "cell_type": "code",
      "source": [
        "def solutionplot(u_pred, times):\n",
        "    '''\n",
        "    Slices of the solution at points t = 0, t = 0.5, and t = 1.0\n",
        "    '''\n",
        "\n",
        "    ####### Row 1: u(t,x) slices ##################\n",
        "    gs1 = gridspec.GridSpec(1, len(times))\n",
        "    gs1.update(top=1-1/3, bottom=0, left=0.1, right=0.9, wspace=0.5)\n",
        "\n",
        "    for i, t_val in enumerate(times):\n",
        "        ax = plt.subplot(gs1[0, i])\n",
        "\n",
        "        # Find the index in usol corresponding to the current time value\n",
        "        # Assuming t is evenly spaced in usol\n",
        "        # Use np.abs(t - t_val).argmin() to find the closest index in t\n",
        "        t_index = np.abs(t - t_val).argmin()\n",
        "\n",
        "\n",
        "        ax.plot(x.squeeze(),usol[t_index,:], 'b--', linewidth = 2, label = 'Exact')\n",
        "        ax.plot(x.squeeze(),u_pred[i,:], 'r--',  markevery=5, markersize=3, markeredgewidth=1.5, label = 'Prediction')\n",
        "        ax.set_xlabel('$x$')\n",
        "        ax.set_ylabel('$u(x,t)$')\n",
        "        ax.set_title(f'$t = {t_val}$', fontsize = 10)\n",
        "        ax.axis('square')\n",
        "        ax.set_xlim([-0.1,1.1])\n",
        "        ax.set_ylim([0.0,1.1])\n",
        "        if i == 1: # Add legend to the middle plot\n",
        "            ax.legend(loc='upper center', bbox_to_anchor=(0.5, -0.35), ncol=2, frameon=False)"
      ],
      "metadata": {
        "id": "KK1uWDuJfsb2"
      },
      "execution_count": null,
      "outputs": []
    },
    {
      "cell_type": "code",
      "source": [
        "# Visualization\n",
        "X = tf.linspace(0.0, 1., 100)\n",
        "X = tf.reshape(X, (-1, 1))\n",
        "\n",
        "# Define the time points for visualization\n",
        "times_to_plot = [0.0, 0.5, 1.0]\n",
        "\n",
        "# Generate predictions for each time point\n",
        "u_preds = []\n",
        "for tt in times_to_plot:\n",
        "    X_inp = tf.constant(np.hstack((X.numpy(), tt * np.ones_like(X.numpy()))), dtype=tf.float32)\n",
        "    u_pred = model(X_inp)\n",
        "    u_preds.append(u_pred.numpy())\n",
        "\n",
        "# Stack the predictions for different time points and reshape to (num_times, num_spatial_points)\n",
        "u_preds = np.vstack(u_preds).reshape(len(times_to_plot), -1)\n",
        "\n",
        "# Plot the solutions\n",
        "solutionplot(u_preds, times_to_plot)"
      ],
      "metadata": {
        "colab": {
          "base_uri": "https://localhost:8080/",
          "height": 246
        },
        "id": "tQvzBFBp75O7",
        "outputId": "597ff66f-0362-4eea-cd9e-4562707a33b7"
      },
      "execution_count": null,
      "outputs": [
        {
          "output_type": "display_data",
          "data": {
            "text/plain": [
              "<Figure size 640x480 with 3 Axes>"
            ],
            "image/png": "[encoded data removed]"
          },
          "metadata": {}
        }
      ]
    }
  ]
}