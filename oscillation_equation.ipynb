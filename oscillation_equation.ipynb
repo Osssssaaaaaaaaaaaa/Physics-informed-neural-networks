{
  "nbformat": 4,
  "nbformat_minor": 0,
  "metadata": {
    "colab": {
      "provenance": []
    },
    "kernelspec": {
      "name": "python3",
      "display_name": "Python 3"
    },
    "language_info": {
      "name": "python"
    }
  },
  "cells": [
    {
      "cell_type": "code",
      "execution_count": null,
      "metadata": {
        "id": "vyr0haHt76jX"
      },
      "outputs": [],
      "source": [
        "import numpy as np\n",
        "import tensorflow as tf\n",
        "import matplotlib.pyplot as plt\n",
        "import torch\n",
        "import torch.nn as nn"
      ]
    },
    {
      "cell_type": "code",
      "source": [
        "# Step 1. Create a model (Feedforward Neural Network)\n",
        "# Three-layer fully connected neural network with 32 nodes in each layer\n",
        "n_nodes = 32\n",
        "n_out = 1\n",
        "model = tf.keras.Sequential([\n",
        "    tf.keras.layers.Dense(n_nodes, activation=\"tanh\"),\n",
        "    tf.keras.layers.Dense(n_nodes, activation=\"tanh\"),\n",
        "    tf.keras.layers.Dense(n_nodes, activation=\"tanh\"),\n",
        "    tf.keras.layers.Dense(n_out, activation=None) # linear activation\n",
        "])"
      ],
      "metadata": {
        "id": "zf5LwlLL8BvG"
      },
      "execution_count": null,
      "outputs": []
    },
    {
      "cell_type": "code",
      "source": [
        "# Step 2: Construct loss function\n",
        "u0 = 1 # initial condition\n",
        "u_t0 = 0 # initial condition\n",
        "\n",
        "def loss(model, X_PDE, X_IC):\n",
        "    with tf.GradientTape(persistent=True) as g:\n",
        "        g.watch(X_PDE)\n",
        "        u = model(X_PDE)\n",
        "        u_t = g.gradient(u, X_PDE)[:, 0:1]\n",
        "        u_tt = g.gradient(u_t, X_PDE)[:, 0:1]\n",
        "\n",
        "\n",
        "    loss_PDE = tf.reduce_mean((u_tt + mu*u_t + k*u)**2)\n",
        "\n",
        "    # Calculate loss of IC\n",
        "    loss_IC_ = tf.reduce_mean((model(X_IC) - u0)**2)\n",
        "    with tf.GradientTape() as g2:\n",
        "        g2.watch(X_IC)\n",
        "        uc = model(X_IC)\n",
        "    uc_t = g2.gradient(uc, X_IC)[:, 0:1]\n",
        "    loss_IC_t = tf.reduce_mean((uc_t - u_t0)**2)\n",
        "\n",
        "    w1 = 1e-1\n",
        "    w2 = 1e-4\n",
        "\n",
        "    loss_IC = loss_IC_ + w1*loss_IC_t\n",
        "\n",
        "    # Total loss\n",
        "    loss_total = w2*loss_PDE + loss_IC\n",
        "\n",
        "    return loss_total, loss_PDE, loss_IC"
      ],
      "metadata": {
        "id": "iFGQhYLaB-7z"
      },
      "execution_count": null,
      "outputs": []
    },
    {
      "cell_type": "code",
      "source": [
        "def IC_data(Nx):\n",
        "    # for the initial condition data, t=0\n",
        "    t = np.zeros((Nx, 1))\n",
        "    return tf.constant(t, dtype=tf.float32)\n",
        "\n",
        "def PDE_data(Np):\n",
        "    t = np.random.rand(Np, 1) # t  is over the domaine of [0,1]\n",
        "    return tf.constant(t, dtype=tf.float32)"
      ],
      "metadata": {
        "id": "YJtf9iEU8Bzm"
      },
      "execution_count": null,
      "outputs": []
    },
    {
      "cell_type": "code",
      "source": [
        "# Step 3.0. Generate training data\n",
        "d, w0 = 2, 20\n",
        "mu, k = 2*d, w0**2\n",
        "\n",
        "\n",
        "Nx = 300  # number of training data for IC\n",
        "Np = 300  # number of training data for PDE\n",
        "\n",
        "\n",
        "X_IC = IC_data(Nx)\n",
        "X_PDE = PDE_data(Np)\n",
        "\n",
        "# Create a dataset object for X_PDE\n",
        "X_PDE_dataset = tf.data.Dataset.from_tensor_slices(X_PDE)\n",
        "# Shuffle and batch data\n",
        "X_PDE_dataset = X_PDE_dataset.shuffle(buffer_size=Np).batch(256)"
      ],
      "metadata": {
        "id": "YPkPcHLI8B3o"
      },
      "execution_count": null,
      "outputs": []
    },
    {
      "cell_type": "code",
      "source": [
        "# Step 3.1. Define optimizer\n",
        "optimizer = tf.keras.optimizers.Adam(learning_rate=0.01)\n",
        "# Step 3.2. Define training loop\n",
        "epochs = 5000\n",
        "# loop over epochs, each epoch contains all batches, each batch contains batch_size data\n",
        "# read data from X_PDE_dataset\n",
        "for epoch in range(epochs):\n",
        "    for X_PDE_batch in X_PDE_dataset:\n",
        "        with tf.GradientTape() as g:\n",
        "            # calculate loss\n",
        "            loss_total, loss_PDE, loss_IC = loss(model, X_PDE_batch, X_IC)\n",
        "\n",
        "        # calculate gradient\n",
        "        grads = g.gradient(loss_total, model.trainable_variables)\n",
        "        # update weights\n",
        "        optimizer.apply_gradients(zip(grads, model.trainable_variables))\n",
        "\n",
        "    if (epoch+1) % 500 == 0:\n",
        "        print('Epoch: %d, Loss: %f, Loss_PDE: %f, Loss_IC: %f' \\\n",
        "            % (epoch+1, loss_total, loss_PDE, loss_IC))"
      ],
      "metadata": {
        "colab": {
          "base_uri": "https://localhost:8080/"
        },
        "id": "d1MRe0nv8B49",
        "outputId": "0985391b-b886-4857-caa0-85f2ead79cb9"
      },
      "execution_count": null,
      "outputs": [
        {
          "output_type": "stream",
          "name": "stdout",
          "text": [
            "Epoch: 500, Loss: 0.004645, Loss_PDE: 11.869741, Loss_IC: 0.003458\n",
            "Epoch: 1000, Loss: 0.000977, Loss_PDE: 9.408268, Loss_IC: 0.000036\n",
            "Epoch: 1500, Loss: 0.001180, Loss_PDE: 9.250989, Loss_IC: 0.000255\n",
            "Epoch: 2000, Loss: 0.001202, Loss_PDE: 3.181925, Loss_IC: 0.000884\n",
            "Epoch: 2500, Loss: 0.001392, Loss_PDE: 12.198655, Loss_IC: 0.000172\n",
            "Epoch: 3000, Loss: 0.002291, Loss_PDE: 3.012163, Loss_IC: 0.001990\n",
            "Epoch: 3500, Loss: 0.000658, Loss_PDE: 4.458177, Loss_IC: 0.000212\n",
            "Epoch: 4000, Loss: 0.022138, Loss_PDE: 187.165878, Loss_IC: 0.003422\n",
            "Epoch: 4500, Loss: 0.002185, Loss_PDE: 17.300425, Loss_IC: 0.000455\n",
            "Epoch: 5000, Loss: 0.001226, Loss_PDE: 6.486952, Loss_IC: 0.000578\n"
          ]
        }
      ]
    },
    {
      "cell_type": "code",
      "source": [
        "def plot_2D(xlim=None, ylim=None, xticks=None, yticks=None,\n",
        "            xlabel = 'x', ylabel = 'y',\n",
        "            figsize=(7.3, 5.9), label_size=18, tick_size=16, spine_width=1.5):\n",
        "\n",
        "    fig, ax = plt.subplots(figsize=figsize)\n",
        "\n",
        "    #-----Format Axis ---------------------------\n",
        "    # labels and size\n",
        "    ax.set_xlabel(xlabel, fontsize=label_size)\n",
        "    ax.set_ylabel(ylabel, fontsize=label_size)\n",
        "\n",
        "    # limits, ticks and size\n",
        "    if xlim is not None:\n",
        "        ax.set_xlim(*xlim)\n",
        "    if ylim is not None:\n",
        "        ax.set_ylim(*ylim)\n",
        "\n",
        "    if xticks is not None:\n",
        "        ax.set_xticks(xticks)\n",
        "    if yticks is not None:\n",
        "        ax.set_yticks(yticks)\n",
        "\n",
        "    for tick in ax.get_xticklabels():\n",
        "        #tick.set_fontname('Times New Roman')\n",
        "        tick.set_fontsize(tick_size)\n",
        "    for tick in ax.get_yticklabels():\n",
        "        #tick.set_fontname('Times New Roman')\n",
        "        tick.set_fontsize(tick_size)\n",
        "\n",
        "    #---------- Spines -------\n",
        "    ax.spines[\"top\"].set_linewidth(spine_width)\n",
        "    ax.spines[\"left\"].set_linewidth(spine_width)\n",
        "    ax.spines[\"right\"].set_linewidth(spine_width)\n",
        "    ax.spines[\"bottom\"].set_linewidth(spine_width)\n",
        "\n",
        "    return fig, ax"
      ],
      "metadata": {
        "id": "mDD6aCF-8B8U"
      },
      "execution_count": null,
      "outputs": []
    },
    {
      "cell_type": "code",
      "source": [
        "def exact_solution(d, w0, t):\n",
        "    \"Defines the analytical solution to the under-damped harmonic oscillator problem above.\"\n",
        "    assert d < w0\n",
        "    w = np.sqrt(w0**2-d**2)\n",
        "    phi = np.arctan(-d/w)\n",
        "    A = 1/(2*np.cos(phi))\n",
        "    # cos = torch.cos(phi+w*t)\n",
        "    # exp = torch.exp(-d*t)\n",
        "    u = np.exp(-d*t)*2*A*np.cos(phi+w*t)\n",
        "    return u"
      ],
      "metadata": {
        "id": "5-6AsWtQ8B94"
      },
      "execution_count": null,
      "outputs": []
    },
    {
      "cell_type": "code",
      "metadata": {
        "id": "8c5873fb"
      },
      "source": [
        "def plot_solutions(model, d= 2, w0= 20, x_range=(0, 1)):\n",
        "    \"\"\"\n",
        "    Plots the exact solution and the PINN solution.\n",
        "\n",
        "    Args:\n",
        "        model: The trained PINN model.\n",
        "        d: Damping coefficient for the exact solution.\n",
        "        w0: Natural frequency for the exact solution.\n",
        "        x_range: A tuple specifying the range for the x-axis (time).\n",
        "    \"\"\"\n",
        "    x = np.linspace(x_range[0], x_range[1], 200)\n",
        "    X_inp = tf.constant(x.reshape(-1, 1), dtype=tf.float32)\n",
        "\n",
        "    # Get PINN prediction\n",
        "    u_pred = model(X_inp).numpy()\n",
        "\n",
        "    # Get exact solution\n",
        "    u_exact = exact_solution(d, w0, x)\n",
        "\n",
        "    fig, ax = plot_2D(xlim=x_range, ylim=[-1.1, 1.1], xticks=np.linspace(x_range[0], x_range[1], 3),\n",
        "                      yticks=[-1, 0, 1], xlabel='$t$', ylabel='$u(t)$')\n",
        "\n",
        "    ax.plot(x, u_pred, 'ro', markevery=2, markersize=5, label='PINN Solution')\n",
        "    ax.plot(x, u_exact, 'k', linewidth=2, alpha=0.5, label='Exact Solution')\n",
        "\n",
        "    ax.legend(fontsize='large', loc='best')\n",
        "    plt.show()"
      ],
      "execution_count": null,
      "outputs": []
    },
    {
      "cell_type": "code",
      "source": [
        "plot_solutions(model)"
      ],
      "metadata": {
        "colab": {
          "base_uri": "https://localhost:8080/",
          "height": 550
        },
        "id": "3B6QP02ICau-",
        "outputId": "004cc5ef-aea8-4963-f823-a7f8f85d07fb"
      },
      "execution_count": null,
      "outputs": [
        {
          "output_type": "display_data",
          "data": {
            "text/plain": [
              "<Figure size 730x590 with 1 Axes>"
            ],
            "image/png": "[encoded data removed]"
          },
          "metadata": {}
        }
      ]
    }
  ]
}